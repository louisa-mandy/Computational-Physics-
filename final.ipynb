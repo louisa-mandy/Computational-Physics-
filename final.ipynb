{
 "cells": [
  {
   "cell_type": "code",
   "execution_count": 1,
   "id": "fd625506",
   "metadata": {},
   "outputs": [
    {
     "data": {
      "application/vnd.jupyter.widget-view+json": {
       "model_id": "a60a806d981848609415ef5513df7b1e",
       "version_major": 2,
       "version_minor": 0
      },
      "text/plain": [
       "IntText(value=60, description='Speed (km/h):')"
      ]
     },
     "metadata": {},
     "output_type": "display_data"
    },
    {
     "data": {
      "application/vnd.jupyter.widget-view+json": {
       "model_id": "e082b4665451463cbc37e06b746984ed",
       "version_major": 2,
       "version_minor": 0
      },
      "text/plain": [
       "Dropdown(description='Road:', options=('Asphalt', 'Highway', 'Gravel'), value='Asphalt')"
      ]
     },
     "metadata": {},
     "output_type": "display_data"
    },
    {
     "data": {
      "application/vnd.jupyter.widget-view+json": {
       "model_id": "145e789f8dcd4d4aba657759fac77063",
       "version_major": 2,
       "version_minor": 0
      },
      "text/plain": [
       "Dropdown(description='Condition:', options=('Dry', 'Wet', 'Icy'), value='Dry')"
      ]
     },
     "metadata": {},
     "output_type": "display_data"
    },
    {
     "data": {
      "application/vnd.jupyter.widget-view+json": {
       "model_id": "f9c847b034bf4910b62b667bc606e0e0",
       "version_major": 2,
       "version_minor": 0
      },
      "text/plain": [
       "FloatText(value=40.0, description='Max Stop Dist:')"
      ]
     },
     "metadata": {},
     "output_type": "display_data"
    },
    {
     "data": {
      "application/vnd.jupyter.widget-view+json": {
       "model_id": "5d9d664cdc1145e79888ebb46169db24",
       "version_major": 2,
       "version_minor": 0
      },
      "text/plain": [
       "Button(button_style='success', description='Run Animation', style=ButtonStyle())"
      ]
     },
     "metadata": {},
     "output_type": "display_data"
    }
   ],
   "source": [
    "import math\n",
    "import plotly.graph_objects as go\n",
    "import ipywidgets as widgets\n",
    "from IPython.display import display, clear_output, HTML\n",
    "\n",
    "# Friction coefficients\n",
    "friction_data = {\n",
    "    'Asphalt': {'Dry': 0.75, 'Wet': 0.55, 'Icy': 0.15},\n",
    "    'Highway': {'Dry': 0.80, 'Wet': 0.60, 'Icy': 0.10},\n",
    "    'Gravel': {'Dry': 0.50, 'Wet': 0.30, 'Icy': 0.05}\n",
    "}\n",
    "\n",
    "g = 9.81  # gravity\n",
    "\n",
    "# Animation function\n",
    "def animate_braking(speed_kmh, road, cond, max_stop_dist):\n",
    "    μ = friction_data[road][cond]\n",
    "    v0 = speed_kmh / 3.6  # convert to m/s\n",
    "    braking_distance = v0**2 / (2 * μ * g)\n",
    "\n",
    "    # Alert if overshoot\n",
    "    if braking_distance > max_stop_dist:\n",
    "        display(HTML(f\"<b style='color:red;'>⚠️ Warning:</b> The car will overshoot the maximum safe stopping distance!<br>Braking Distance = <b>{braking_distance:.2f} m</b>, Max Allowed = <b>{max_stop_dist:.2f} m</b>\"))\n",
    "    else:\n",
    "        display(HTML(f\"<b style='color:green;'>✅ Safe:</b> Braking distance = <b>{braking_distance:.2f} m</b>\"))\n",
    "\n",
    "    # Generate animation frames\n",
    "    step = max(1, int(braking_distance)//80)  # smaller step = smoother & faster\n",
    "    positions = list(range(0, int(braking_distance)+1, step))\n",
    "\n",
    "    frames = [\n",
    "        go.Frame(\n",
    "            data=[go.Scatter(x=[pos], y=[0], mode='markers', marker=dict(size=20, color='blue'))],\n",
    "            name=str(pos)\n",
    "        ) for pos in positions\n",
    "    ]\n",
    "\n",
    "    fig = go.Figure(\n",
    "        data=[go.Scatter(x=[0], y=[0], mode='markers', marker=dict(size=20, color='blue'))],\n",
    "        layout=go.Layout(\n",
    "            title=f\"🚗 Car Braking – Speed: {speed_kmh} km/h, {road}, {cond}\",\n",
    "            xaxis=dict(title='Distance (m)', range=[0, max(braking_distance, max_stop_dist) + 10]),\n",
    "            yaxis=dict(visible=False),\n",
    "            shapes=[\n",
    "                dict(type='line', x0=max_stop_dist, x1=max_stop_dist, y0=-1, y1=1, line=dict(color='red', dash='dash'))\n",
    "            ],\n",
    "            updatemenus=[dict(\n",
    "                type=\"buttons\",\n",
    "                buttons=[dict(label=\"▶ Play\", method=\"animate\", args=[None, {\"frame\": {\"duration\": 30}, \"fromcurrent\": True}])]\n",
    "            )]\n",
    "        ),\n",
    "        frames=frames\n",
    "    )\n",
    "\n",
    "    fig.show()\n",
    "\n",
    "# Widgets\n",
    "speed_input = widgets.IntText(value=60, description='Speed (km/h):')\n",
    "road_dropdown = widgets.Dropdown(options=list(friction_data.keys()), value='Asphalt', description='Road:')\n",
    "condition_dropdown = widgets.Dropdown(options=['Dry', 'Wet', 'Icy'], value='Dry', description='Condition:')\n",
    "max_dist_input = widgets.FloatText(value=40, description='Max Stop Dist:')\n",
    "run_button = widgets.Button(description=\"Run Animation\", button_style='success')\n",
    "\n",
    "def on_run_clicked(b):\n",
    "    clear_output(wait=True)\n",
    "    display(speed_input, road_dropdown, condition_dropdown, max_dist_input, run_button)\n",
    "    try:\n",
    "        animate_braking(\n",
    "            speed_kmh=speed_input.value,\n",
    "            road=road_dropdown.value,\n",
    "            cond=condition_dropdown.value,\n",
    "            max_stop_dist=max_dist_input.value\n",
    "        )\n",
    "    except Exception as e:\n",
    "        print(f\"Error: {e}\")\n",
    "\n",
    "run_button.on_click(on_run_clicked)\n",
    "\n",
    "display(speed_input, road_dropdown, condition_dropdown, max_dist_input, run_button)"
   ]
  }
 ],
 "metadata": {
  "kernelspec": {
   "display_name": "Python 3",
   "language": "python",
   "name": "python3"
  },
  "language_info": {
   "codemirror_mode": {
    "name": "ipython",
    "version": 3
   },
   "file_extension": ".py",
   "mimetype": "text/x-python",
   "name": "python",
   "nbconvert_exporter": "python",
   "pygments_lexer": "ipython3",
   "version": "3.13.0"
  }
 },
 "nbformat": 4,
 "nbformat_minor": 5
}
