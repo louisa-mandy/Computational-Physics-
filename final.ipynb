import math
import plotly.graph_objects as go
import ipywidgets as widgets
from IPython.display import display, clear_output, HTML

# Friction coefficients
friction_data = {
    'Asphalt': {'Dry': 0.75, 'Wet': 0.55, 'Icy': 0.15},
    'Highway': {'Dry': 0.80, 'Wet': 0.60, 'Icy': 0.10},
    'Gravel': {'Dry': 0.50, 'Wet': 0.30, 'Icy': 0.05}
}

g = 9.81  # gravity
car_length = 4.5  # meters (average car length)

# Animation function
def animate_braking(speed_kmh, road, cond, max_stop_dist, mode='speed'):
    μ = friction_data[road][cond]
    
    if mode == 'speed':
        v0 = speed_kmh / 3.6  # convert to m/s
        braking_distance = v0**2 / (2 * μ * g)

        if braking_distance + car_length > max_stop_dist:
            display(HTML(f"<b style='color:red;'>⚠️ Warning:</b> The car will overshoot the maximum safe stopping distance!<br>Braking Distance = <b>{braking_distance:.2f} m</b>, Max Allowed = <b>{max_stop_dist:.2f} m</b>"))
        else:
            display(HTML(f"<b style='color:green;'>✅ Safe:</b> Braking distance = <b>{braking_distance:.2f} m</b>"))
    else:
        # Compute max speed that allows stopping in the given distance
        max_speed_ms = math.sqrt(2 * μ * g * (max_stop_dist - car_length))
        speed_kmh = max_speed_ms * 3.6
        braking_distance = max_stop_dist
        display(HTML(f"<b style='color:blue;'>ℹ️ Max Safe Speed:</b> <b>{speed_kmh:.2f} km/h</b> for stopping within <b>{max_stop_dist:.2f} m</b>."))

    # Create animation
    frame_count = 80
    positions = [braking_distance * i / frame_count for i in range(frame_count + 1)]

    frames = [
        go.Frame(
            layout=go.Layout(
                shapes=[
                    dict(
                        type='rect',
                        x0=pos - car_length if mode == 'distance' else pos,
                        x1=pos if mode == 'distance' else pos + car_length,
                        y0=-0.5,
                        y1=0.5,
                        fillcolor='blue',
                        line=dict(color='blue')
                    ),
                    dict(
                        type='line',
                        x0=max_stop_dist,
                        x1=max_stop_dist,
                        y0=-1,
                        y1=1,
                        line=dict(color='red', dash='dash')
                    )
                ]
            ),
            name=str(round(pos, 2))
        ) for pos in positions
    ]

    initial_shapes = [
        dict(
            type='rect',
            x0=0 - car_length if mode == 'distance' else 0,
            x1=0 if mode == 'distance' else 0 + car_length,
            y0=-0.5,
            y1=0.5,
            fillcolor='blue',
            line=dict(color='blue')
        ),
        dict(
            type='line',
            x0=max_stop_dist,
            x1=max_stop_dist,
            y0=-1,
            y1=1,
            line=dict(color='red', dash='dash')
        )
    ]

    fig = go.Figure(
        layout=go.Layout(
            title=f"🚗 Car Braking – {road}, {cond}",
            xaxis=dict(title='Distance (m)', range=[0, max(braking_distance, max_stop_dist) + car_length + 5]),
            yaxis=dict(visible=False),
            shapes=initial_shapes,
            updatemenus=[dict(
                type="buttons",
                buttons=[dict(label="▶ Play", method="animate", args=[None, {"frame": {"duration": 30}, "fromcurrent": True}])]
            )]
        ),
        frames=frames
    )

    fig.show()

# Widgets
mode_selector = widgets.ToggleButtons(
    options=[('By Speed', 'speed'), ('By Distance', 'distance')],
    value='speed',
    description='Mode:'
)

speed_input = widgets.IntText(value=60, description='Speed (km/h):')
max_dist_input = widgets.FloatText(value=40, description='Max Stop Dist (m):')
distance_input = widgets.FloatText(value=40, description='Distance (m):')
road_dropdown = widgets.Dropdown(options=list(friction_data.keys()), value='Asphalt', description='Road:')
condition_dropdown = widgets.Dropdown(options=['Dry', 'Wet', 'Icy'], value='Dry', description='Condition:')
run_button = widgets.Button(description="Run Animation", button_style='success')

# Update visible widgets based on mode
def update_visibility(change=None):
    if mode_selector.value == 'speed':
        speed_input.layout.display = 'block'
        max_dist_input.layout.display = 'block'
        distance_input.layout.display = 'none'
    else:
        speed_input.layout.display = 'none'
        max_dist_input.layout.display = 'none'
        distance_input.layout.display = 'block'

mode_selector.observe(update_visibility, names='value')
update_visibility()

# Run logic
def on_run_clicked(b):
    clear_output(wait=True)
    display(mode_selector, speed_input, max_dist_input, distance_input, road_dropdown, condition_dropdown, run_button)
    try:
        if mode_selector.value == 'speed':
            animate_braking(
                speed_kmh=speed_input.value,
                road=road_dropdown.value,
                cond=condition_dropdown.value,
                max_stop_dist=max_dist_input.value,
                mode='speed'
            )
        else:
            animate_braking(
                speed_kmh=0,
                road=road_dropdown.value,
                cond=condition_dropdown.value,
                max_stop_dist=distance_input.value,
                mode='distance'
            )
    except Exception as e:
        print(f"Error: {e}")

run_button.on_click(on_run_clicked)

# Display all
display(mode_selector, speed_input, max_dist_input, distance_input, road_dropdown, condition_dropdown, run_button)
